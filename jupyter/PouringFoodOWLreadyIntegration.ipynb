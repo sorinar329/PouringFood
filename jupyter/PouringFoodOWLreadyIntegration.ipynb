{
 "cells": [
  {
   "metadata": {},
   "cell_type": "markdown",
   "source": [
    "# Pouring Food OWLReady Integration Notebook\n",
    "OWLReady Integration with owlready2 for the Food Cutting SPARQL Queries from: https://github.com/Food-Ninja/PouringFood/blob/main/jupyter/PouringFoodQueries.ipynb"
   ],
   "id": "a86b058a39af2df3"
  },
  {
   "metadata": {
    "collapsed": true
   },
   "cell_type": "code",
   "outputs": [],
   "execution_count": null,
   "source": [
    "from owlready2 import get_ontology, Restriction, owlready, Or\n",
    "from parso.python.tree import Class"
   ],
   "id": "initial_id"
  },
  {
   "metadata": {},
   "cell_type": "markdown",
   "source": [
    "- The URL can be a file from the internet but also a local file\n",
    "- Defining the Namespaces globally so they can be accessed by every function\n",
    "- Accessing a class requires to call the Namespace for example, the class \"apple\" (IRI: \"http://purl.obolibrary.org/obo/FOODON_03301710\") corresponds to OBO.FOODON_03301710, as the OBO namespace is defined as such."
   ],
   "id": "d10017f5c090c78c"
  },
  {
   "metadata": {},
   "cell_type": "code",
   "source": [
    "url = \"https://raw.githubusercontent.com/Food-Ninja/PouringFood/main/owl/PouringFood.owl\"\n",
    "onto = get_ontology(url).load()\n",
    "SOMA = onto.get_namespace(\"http://www.ease-crc.org/ont/SOMA.owl#\")\n",
    "POUR = onto.get_namespace(\"http://www.ease-crc.org/ont/pouring_food#\")\n",
    "DUL = onto.get_namespace(\"http://www.ontologydesignpatterns.org/ont/dul/DUL.owl#\")\n",
    "OBO = onto.get_namespace(\"http://purl.obolibrary.org/obo/\")\n",
    "QUDT = onto.get_namespace(\"http://qudt.org/schema/qudt#\")\n"
   ],
   "id": "8fe2148fc9bffc20",
   "outputs": [],
   "execution_count": null
  },
  {
   "metadata": {},
   "cell_type": "markdown",
   "source": [
    "# What Tool should be used? -Query\n",
    "- Returns the required tool to execute the task. Requires a task as input"
   ],
   "id": "202c3593f5edd1c1"
  },
  {
   "metadata": {},
   "cell_type": "code",
   "source": [
    "def whattool(task):\n",
    "    for parent in task.is_a:\n",
    "        if isinstance(parent, Restriction) and parent.property == DUL.hasParticipant:\n",
    "            return parent.value"
   ],
   "id": "533235fd54b8abaa",
   "outputs": [],
   "execution_count": null
  },
  {
   "metadata": {},
   "cell_type": "markdown",
   "source": [
    "# What is the consistency of the Food Object? -Query\n",
    "- Returns the Consistency (or multiple Consistencies) of the input Food Object.\n",
    "- Some Objects inherit their Consistency attribute from their superclass\n",
    "- Some Objects can have more then one consistency (situational). In this case the Consistencies are united with the logical \"Or\" operator"
   ],
   "id": "3c1b0818e783cab0"
  },
  {
   "metadata": {},
   "cell_type": "code",
   "source": [
    "def get_consistency(food_cls):\n",
    "    for parent in food_cls.is_a:\n",
    "        if isinstance(parent, Restriction):\n",
    "            if parent.property == POUR.hasConsistency:\n",
    "                return parent.value\n",
    "        \n",
    "    for parent in food_cls.is_a:\n",
    "        for child in parent.is_a:\n",
    "            if isinstance(child, Restriction):\n",
    "                if child.property == POUR.hasConsistency:\n",
    "                    return child.value"
   ],
   "id": "535cf437b3fa667f",
   "outputs": [],
   "execution_count": null
  },
  {
   "metadata": {},
   "cell_type": "markdown",
   "source": [
    "# Which Angle class corresponds to the given Consistency? -Query\n",
    "- Returns the Angle class that corresponds to the input consistency.\n",
    "- The input Consistency can be also queried with the \"get_consistency\" function while giving a Food Object as input.\n",
    "- We iterate over the Subclasses of the PouringAngle Class and check for the Pour.hasInputObject - Restrictions.\n",
    "- This Restriction can have only one InputObject (Pour.Liquid) or multiple (every other Consistency)\n",
    "- We check for the subclass in which the consistency is represented and return this particular subclass"
   ],
   "id": "80166b9de25d2bde"
  },
  {
   "metadata": {},
   "cell_type": "code",
   "source": [
    "def get_angle_class_from_consistency(consistency):\n",
    "    consistencies = []\n",
    "    for subclass in POUR.PouringAngle.subclasses():\n",
    "        for parent in subclass.is_a:\n",
    "            if not isinstance(parent, Restriction):\n",
    "               continue\n",
    "            if parent.property == POUR.hasInputObject:\n",
    "                for child in parent.value.Classes:                \n",
    "                    if isinstance(child, Restriction):\n",
    "                        if isinstance(child.value, Or):\n",
    "                            for i in child.value.Classes:\n",
    "                                consistencies.append(i)\n",
    "                        consistencies.append(child.value)\n",
    "                        if consistency in consistencies:\n",
    "                            consistencies.clear()\n",
    "                            return subclass\n",
    "                    "
   ],
   "id": "2040664023277315",
   "outputs": [],
   "execution_count": null
  },
  {
   "metadata": {},
   "cell_type": "markdown",
   "source": [
    "# Which Duration class corresponds to the given Consistency? -Query\n",
    "- Returns the Duration class that corresponds to the input consistency.\n",
    "- The input Consistency can be also queried with the \"get_consistency\" function while giving a Food Object as input.\n",
    "- We iterate over the Subclasses of the Duration Class and check for the Pour.hasInputObject - Restrictions.\n",
    "- This Restriction can have only one InputObject (Pour.Liquid) or multiple (every other Consistency)\n",
    "- We check for the subclass in which the consistency is represented and return this particular subclass"
   ],
   "id": "76948b8a3ab77d53"
  },
  {
   "metadata": {},
   "cell_type": "code",
   "source": [
    "def get_duration_class_from_consistency(consistency):\n",
    "    consistencies = []\n",
    "    for subclass in POUR.PouringDuration.subclasses():\n",
    "        for parent in subclass.is_a:\n",
    "            if not isinstance(parent, Restriction):\n",
    "               continue\n",
    "            if parent.property == POUR.hasInputObject:\n",
    "                for child in parent.value.Classes:                \n",
    "                    if isinstance(child, Restriction):\n",
    "                        if isinstance(child.value, Or):\n",
    "                            for i in child.value.Classes:\n",
    "                                consistencies.append(i)\n",
    "                        consistencies.append(child.value)\n",
    "                        if consistency in consistencies:\n",
    "                            consistencies.clear()\n",
    "                            return subclass\n",
    "\n"
   ],
   "id": "af5e7271fdbeff11",
   "outputs": [],
   "execution_count": null
  },
  {
   "metadata": {},
   "cell_type": "markdown",
   "source": [
    "# Get the Angles required for executing the task.\n",
    "- Returning the minimal and maximal angles values.\n",
    "- There are 3 cases that can occur, regarding the consistency of the food object:\n",
    "1. The Food object class can have multiple consistencies defined, if one of them is the Liquid class, it is required to consider both PouringAngle classes as they differ for Liquid consistency and any other consistency.\n",
    "2. The Food object class can have multiple consistencies defined, if none of them is the Liquid class, we choose the first defined consistency, because every other consistency then Liquid returns the same PouringAngle values.\n",
    "3. The Food object class has only one consistency defined, and returns the associated PouringAngle values.\n",
    "- The min and max values for the PouringAngle are first appended to a list, these values are then assigned with the min() and max()- functions, and returned"
   ],
   "id": "44e10441830c01ba"
  },
  {
   "metadata": {},
   "cell_type": "code",
   "outputs": [],
   "execution_count": null,
   "source": [
    "def get_angles(food_cls):\n",
    "    angles = []\n",
    "    if isinstance(get_consistency(food_cls), Or):\n",
    "        \n",
    "        if POUR.Liquid in get_consistency(food_cls).Classes:\n",
    "            for parent in get_angle_class_from_consistency(POUR.Liquid).is_a:\n",
    "                if isinstance(parent, Restriction):\n",
    "                    if parent.property == QUDT.valueQuantity:\n",
    "                        angles.append(parent.cardinality)\n",
    "            \n",
    "            for parent in get_angle_class_from_consistency(POUR.Moist).is_a:\n",
    "                if isinstance(parent, Restriction):\n",
    "                    if parent.property == QUDT.valueQuantity:\n",
    "                        angles.append(parent.cardinality)\n",
    "    \n",
    "        if POUR.Liquid not in get_consistency(food_cls).Classes:\n",
    "                for parent in get_angle_class_from_consistency(get_consistency(food_cls).Classes[0]).is_a:\n",
    "                    if isinstance(parent, Restriction):\n",
    "                        if parent.property == QUDT.valueQuantity:\n",
    "                            angles.append(parent.cardinality)\n",
    "    \n",
    "    else:        \n",
    "        for parent in get_angle_class_from_consistency(get_consistency(food_cls)).is_a:\n",
    "            if isinstance(parent, Restriction):\n",
    "                if parent.property == QUDT.valueQuantity:\n",
    "                    angles.append(parent.cardinality)\n",
    "                \n",
    "                \n",
    "    \n",
    "    min_angle = min(angles)\n",
    "    max_angle = max(angles)\n",
    "    \n",
    "    return min_angle, max_angle"
   ],
   "id": "601e9a684ebe2e89"
  },
  {
   "metadata": {},
   "cell_type": "markdown",
   "source": [
    "# Get the Duration required for executing the task.\n",
    "- Returning the minimal and maximal duration values.\n",
    "- There are 3 cases that can occur, regarding the consistency of the food object:\n",
    "1. The Food object class can have multiple consistencies defined, if one of them is the Liquid class, it is required to consider both Duration classes as they differ for Liquid consistency and any other consistency.\n",
    "2. The Food object class can have multiple consistencies defined, if none of them is the Liquid class, we choose the first defined consistency, because every other consistency then Liquid returns the same Duration values.\n",
    "3. The Food object class has only one consistency defined, and returns the associated Duration values.\n",
    "- The min and max values for the Duration are first appended to a list, these values are then assigned with the min() and max()- functions, and returned"
   ],
   "id": "52c3f15ba4dc724e"
  },
  {
   "metadata": {},
   "cell_type": "code",
   "source": [
    "def get_durations(food_cls):\n",
    "    durations = []\n",
    "    \n",
    "    if isinstance(get_consistency(food_cls), Or):\n",
    "        if POUR.Liquid in get_consistency(food_cls).Classes:\n",
    "            \n",
    "            for parent in get_duration_class_from_consistency(POUR.Liquid).is_a:\n",
    "                if isinstance(parent, Restriction):\n",
    "                    if parent.property == QUDT.valueQuantity:\n",
    "                        durations.append(parent.cardinality)\n",
    "            \n",
    "            for parent in get_angle_class_from_consistency(POUR.Moist).is_a:\n",
    "                if isinstance(parent, Restriction):\n",
    "                    if parent.property == QUDT.valueQuantity:\n",
    "                        durations.append(parent.cardinality)\n",
    "        \n",
    "        if POUR.Liquid not in get_consistency(food_cls).Classes:\n",
    "            for parent in get_duration_class_from_consistency(get_consistency(food_cls).Classes[0]).is_a:\n",
    "                if isinstance(parent, Restriction):\n",
    "                    if parent.property == QUDT.valueQuantity:\n",
    "                        durations.append(parent.cardinality)\n",
    "    else:\n",
    "        for parent in get_duration_class_from_consistency(get_consistency(food_cls)).is_a:\n",
    "            if isinstance(parent, Restriction):\n",
    "                if parent.property == QUDT.valueQuantity:\n",
    "                    durations.append(parent.cardinality)\n",
    "    \n",
    "    min_duration = min(durations)\n",
    "    max_duration = max(durations)\n",
    "    \n",
    "    return min_duration, max_duration"
   ],
   "id": "6ad9f7832cddd1b7",
   "outputs": [],
   "execution_count": null
  },
  {
   "metadata": {},
   "cell_type": "code",
   "source": [
    "# Pipeline\n",
    "task = POUR.Draining\n",
    "Food_object = POUR.marinade\n",
    "print(\"Input Task: \" + str(task))\n",
    "print(\"Input Food Object: \" + str(Food_object))\n",
    "print(\"Needed Tool:\")\n",
    "print(whattool(task))\n",
    "print(\"Pouring Angles:\")\n",
    "print(get_angles(food_cls=Food_object))\n",
    "print(\"Durations:\")\n",
    "print(get_durations(food_cls=Food_object))"
   ],
   "id": "7387b488dd82e378",
   "outputs": [],
   "execution_count": null
  }
 ],
 "metadata": {
  "kernelspec": {
   "display_name": "Python 3",
   "language": "python",
   "name": "python3"
  },
  "language_info": {
   "codemirror_mode": {
    "name": "ipython",
    "version": 2
   },
   "file_extension": ".py",
   "mimetype": "text/x-python",
   "name": "python",
   "nbconvert_exporter": "python",
   "pygments_lexer": "ipython2",
   "version": "2.7.6"
  }
 },
 "nbformat": 4,
 "nbformat_minor": 5
}
