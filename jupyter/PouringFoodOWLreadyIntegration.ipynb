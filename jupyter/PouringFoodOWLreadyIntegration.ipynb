{
 "cells": [
  {
   "cell_type": "code",
   "id": "initial_id",
   "metadata": {
    "collapsed": true
   },
   "source": [
    "from owlready2 import get_ontology, Restriction, owlready, Or\n",
    "from parso.python.tree import Class"
   ],
   "outputs": [],
   "execution_count": null
  },
  {
   "metadata": {},
   "cell_type": "code",
   "source": [
    "url = \"https://raw.githubusercontent.com/Food-Ninja/PouringFood/main/owl/PouringFood.owl\"\n",
    "onto = get_ontology(url).load()\n",
    "SOMA = onto.get_namespace(\"http://www.ease-crc.org/ont/SOMA.owl#\")\n",
    "POUR = onto.get_namespace(\"http://www.ease-crc.org/ont/pouring_food#\")\n",
    "DUL = onto.get_namespace(\"http://www.ontologydesignpatterns.org/ont/dul/DUL.owl#\")\n",
    "OBO = onto.get_namespace(\"http://purl.obolibrary.org/obo/\")\n",
    "QUDT = onto.get_namespace(\"http://qudt.org/schema/qudt#\")\n"
   ],
   "id": "8fe2148fc9bffc20",
   "outputs": [],
   "execution_count": null
  },
  {
   "metadata": {},
   "cell_type": "code",
   "source": [
    "def whattool(task):\n",
    "    for parent in task.is_a:\n",
    "        if isinstance(parent, Restriction) and parent.property == DUL.hasParticipant:\n",
    "            return parent.value"
   ],
   "id": "533235fd54b8abaa",
   "outputs": [],
   "execution_count": null
  },
  {
   "metadata": {},
   "cell_type": "code",
   "source": [
    "def get_consistency(food_cls):\n",
    "    for parent in food_cls.is_a:\n",
    "        if isinstance(parent, Restriction):\n",
    "            if parent.property == POUR.hasConsistency:\n",
    "                return parent.value\n",
    "        \n",
    "    for parent in food_cls.is_a:\n",
    "        for child in parent.is_a:\n",
    "            if isinstance(child, Restriction):\n",
    "                if child.property == POUR.hasConsistency:\n",
    "                    return child.value"
   ],
   "id": "535cf437b3fa667f",
   "outputs": [],
   "execution_count": null
  },
  {
   "metadata": {},
   "cell_type": "code",
   "source": [
    "def get_angle_class_from_consistency(consistency):\n",
    "    consistencies = []\n",
    "    for subclass in POUR.PouringAngle.subclasses():\n",
    "        for parent in subclass.is_a:\n",
    "            if not isinstance(parent, Restriction):\n",
    "               continue\n",
    "            if parent.property == POUR.hasInputObject:\n",
    "                for child in parent.value.Classes:                \n",
    "                    if isinstance(child, Restriction):\n",
    "                        if isinstance(child.value, Or):\n",
    "                            for i in child.value.Classes:\n",
    "                                consistencies.append(i)\n",
    "                        consistencies.append(child.value)\n",
    "                        if consistency in consistencies:\n",
    "                            consistencies.clear()\n",
    "                            return subclass\n",
    "                    "
   ],
   "id": "2040664023277315",
   "outputs": [],
   "execution_count": null
  },
  {
   "metadata": {},
   "cell_type": "code",
   "source": [
    "def get_angles(food_cls):\n",
    "    angles = []\n",
    "    if isinstance(get_consistency(food_cls), Or):\n",
    "        \n",
    "        if POUR.Liquid in get_consistency(food_cls).Classes:\n",
    "            for parent in get_angle_class_from_consistency(POUR.Liquid).is_a:\n",
    "                if isinstance(parent, Restriction):\n",
    "                    if parent.property == QUDT.valueQuantity:\n",
    "                        angles.append(parent.cardinality)\n",
    "            \n",
    "            for parent in get_angle_class_from_consistency(POUR.Moist).is_a:\n",
    "                if isinstance(parent, Restriction):\n",
    "                    if parent.property == QUDT.valueQuantity:\n",
    "                        angles.append(parent.cardinality)\n",
    "    \n",
    "        if POUR.Liquid not in get_consistency(food_cls).Classes:\n",
    "                for parent in get_angle_class_from_consistency(get_consistency(food_cls).Classes[0]).is_a:\n",
    "                    if isinstance(parent, Restriction):\n",
    "                        if parent.property == QUDT.valueQuantity:\n",
    "                            angles.append(parent.cardinality)\n",
    "    \n",
    "    else:        \n",
    "        for parent in get_angle_class_from_consistency(get_consistency(food_cls)).is_a:\n",
    "            if isinstance(parent, Restriction):\n",
    "                if parent.property == QUDT.valueQuantity:\n",
    "                    angles.append(parent.cardinality)\n",
    "                \n",
    "                \n",
    "    \n",
    "    min_angle = min(angles)\n",
    "    max_angle = max(angles)\n",
    "    \n",
    "    return min_angle, max_angle"
   ],
   "id": "601e9a684ebe2e89",
   "outputs": [],
   "execution_count": null
  },
  {
   "metadata": {},
   "cell_type": "code",
   "source": [
    "def get_duration_class_from_consistency(consistency):\n",
    "    consistencies = []\n",
    "    for subclass in POUR.PouringDuration.subclasses():\n",
    "        for parent in subclass.is_a:\n",
    "            if not isinstance(parent, Restriction):\n",
    "               continue\n",
    "            if parent.property == POUR.hasInputObject:\n",
    "                for child in parent.value.Classes:                \n",
    "                    if isinstance(child, Restriction):\n",
    "                        if isinstance(child.value, Or):\n",
    "                            for i in child.value.Classes:\n",
    "                                consistencies.append(i)\n",
    "                        consistencies.append(child.value)\n",
    "                        if consistency in consistencies:\n",
    "                            consistencies.clear()\n",
    "                            return subclass\n",
    "\n"
   ],
   "id": "af5e7271fdbeff11",
   "outputs": [],
   "execution_count": null
  },
  {
   "metadata": {},
   "cell_type": "code",
   "source": [
    "def get_durations(food_cls):\n",
    "    durations = []\n",
    "    \n",
    "    if isinstance(get_consistency(food_cls), Or):\n",
    "        print(\"here\")\n",
    "        if POUR.Liquid in get_consistency(food_cls).Classes:\n",
    "            \n",
    "            for parent in get_duration_class_from_consistency(POUR.Liquid).is_a:\n",
    "                if isinstance(parent, Restriction):\n",
    "                    if parent.property == QUDT.valueQuantity:\n",
    "                        durations.append(parent.cardinality)\n",
    "            \n",
    "            for parent in get_angle_class_from_consistency(POUR.Moist).is_a:\n",
    "                if isinstance(parent, Restriction):\n",
    "                    if parent.property == QUDT.valueQuantity:\n",
    "                        durations.append(parent.cardinality)\n",
    "        \n",
    "        if POUR.Liquid not in get_consistency(food_cls).Classes:\n",
    "            for parent in get_duration_class_from_consistency(get_consistency(food_cls).Classes[0]).is_a:\n",
    "                if isinstance(parent, Restriction):\n",
    "                    if parent.property == QUDT.valueQuantity:\n",
    "                        durations.append(parent.cardinality)\n",
    "    else:\n",
    "        for parent in get_duration_class_from_consistency(get_consistency(food_cls)).is_a:\n",
    "            if isinstance(parent, Restriction):\n",
    "                if parent.property == QUDT.valueQuantity:\n",
    "                    durations.append(parent.cardinality)\n",
    "    \n",
    "    min_duration = min(durations)\n",
    "    max_duration = max(durations)\n",
    "    \n",
    "    return min_duration, max_duration\n",
    "\n",
    "get_durations(OBO.FOODON_03306347)"
   ],
   "id": "6ad9f7832cddd1b7",
   "outputs": [],
   "execution_count": null
  },
  {
   "metadata": {},
   "cell_type": "code",
   "source": [
    "# Pipeline\n",
    "task = POUR.Draining\n",
    "Food_object = POUR.marinade\n",
    "print(\"Input Task: \" + str(task))\n",
    "print(\"Input Food Object: \" + str(Food_object))\n",
    "print(\"Needed Tool:\")\n",
    "print(whattool(task))\n",
    "print(\"Pouring Angles:\")\n",
    "print(get_angles(food_cls=Food_object))\n",
    "print(\"Durations:\")\n",
    "print(get_durations(food_cls=Food_object))"
   ],
   "id": "7387b488dd82e378",
   "outputs": [],
   "execution_count": null
  },
  {
   "metadata": {},
   "cell_type": "markdown",
   "source": [
    "# Notes\n",
    "- ToDo: Food Klassen \"Marinade\", \"Pasta\", \"Rice\" haben eine Verorderung in der Consistency: Dry or Liquid, Dry or Moist -> Wie berücksichtigt man das?\n",
    "- "
   ],
   "id": "12b54a9fac26e2d8"
  }
 ],
 "metadata": {
  "kernelspec": {
   "display_name": "Python 3",
   "language": "python",
   "name": "python3"
  },
  "language_info": {
   "codemirror_mode": {
    "name": "ipython",
    "version": 2
   },
   "file_extension": ".py",
   "mimetype": "text/x-python",
   "name": "python",
   "nbconvert_exporter": "python",
   "pygments_lexer": "ipython2",
   "version": "2.7.6"
  }
 },
 "nbformat": 4,
 "nbformat_minor": 5
}
