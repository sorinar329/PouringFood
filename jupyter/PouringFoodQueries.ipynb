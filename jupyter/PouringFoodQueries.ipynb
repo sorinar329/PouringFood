{
 "cells": [
  {
   "cell_type": "markdown",
   "id": "26f4cc82",
   "metadata": {},
   "source": [
    "## 1. Set parameters for queries\n",
    "This step will open a dropdown so you can choose parameters for the following queries. "
   ]
  },
  {
   "cell_type": "code",
   "id": "93dde8a4",
   "metadata": {
    "ExecuteTime": {
     "end_time": "2024-10-08T06:35:48.478102Z",
     "start_time": "2024-10-08T06:35:48.404339Z"
    }
   },
   "source": [
    "import ipywidgets as widgets\n",
    "from ipywidgets import HBox\n",
    "\n",
    "# all available parameters\n",
    "tasks = [('pour',\"pour:Pouring\"),\n",
    "        ('drain', \"pour:Draining\"),\n",
    "        ('sprinkle',\"pour:Sprinkling\")]\n",
    "\n",
    "objects=[('batter', \"obo:FOODON_03301304\"),\n",
    "        ('broth', \"obo:FOODON_03420170\"),\n",
    "        ('chocolate', \"obo:FOODON_03307240\"),\n",
    "        ('coffee', \"obo:FOODON_03301036\"),    \n",
    "        ('cream', \"pour:cream\"),\n",
    "        ('egg', \"obo:FOODON_03316061\"),\n",
    "        ('flour', \"obo:FOODON_03302339\"),     \n",
    "        ('juice', \"obo:FOODON_03315552\"), \n",
    "        ('liquids', \"pour:Liquids\"),\n",
    "        ('milk', \"obo:UBERON_0001913\"),\n",
    "        ('oil', \"obo:FOODON_03310387\"),\n",
    "        ('sauce', \"obo:FOODON_03311146\"),\n",
    "        ('sugar', \"obo:FOODON_03301073\"),\n",
    "        ('syrup', \"obo:FOODON_03303225\"), \n",
    "        ('tea', \"obo:FOODON_03315081\"),\n",
    "        ('vinegar', \"obo:FOODON_03301705\"),\n",
    "        ('water', \"obo:ENVO_00003064\"),\n",
    "        ('wine', \"obo:FOODON_03301338\")]\n",
    "\n",
    "task=\"\"\n",
    "tobject=\"\"\n",
    "\n",
    "# Takes a Task of the tasks list. \n",
    "# Then makes the previously initialized task variable global and assigns value of the given Task to it \n",
    "def chooseTask(Task):\n",
    "    global task\n",
    "    task=Task\n",
    "    \n",
    "# Takes an Object of the object list.\n",
    "# Then makes the previously initialized tobject variable global and assigns value of the given Object to it \n",
    "def chooseObject(Object):\n",
    "    global tobject\n",
    "    tobject=Object\n",
    "    \n",
    "# Create the dropdown widgets\n",
    "task_widget = widgets.Dropdown(options=tasks, description='Task:')\n",
    "object_widget = widgets.Dropdown(options=objects, description='Object:')\n",
    "\n",
    "# Define the event handlers\n",
    "def taskEvent(event):\n",
    "    chooseTask(event.new)\n",
    "\n",
    "def objectEvent(event):\n",
    "    chooseObject(event.new)\n",
    "    \n",
    "# Attach the event handlers to the widgets\n",
    "task_widget.observe(taskEvent, names='value')\n",
    "object_widget.observe(objectEvent, names='value')\n",
    "\n",
    "# Combine the widgets using HBox\n",
    "widgets_display = HBox([task_widget, object_widget])\n",
    "\n",
    "# Display widgets\n",
    "widgets_display\n",
    "\n",
    "# optional: set Parameters manually:\n",
    "#task = \"cut:Quartering\"\n",
    "#tobject = \"obo:FOODON_03301710\""
   ],
   "outputs": [
    {
     "ename": "ModuleNotFoundError",
     "evalue": "No module named 'ipywidgets'",
     "output_type": "error",
     "traceback": [
      "\u001B[0;31m---------------------------------------------------------------------------\u001B[0m",
      "\u001B[0;31mModuleNotFoundError\u001B[0m                       Traceback (most recent call last)",
      "Cell \u001B[0;32mIn[1], line 1\u001B[0m\n\u001B[0;32m----> 1\u001B[0m \u001B[38;5;28;01mimport\u001B[39;00m \u001B[38;5;21;01mipywidgets\u001B[39;00m \u001B[38;5;28;01mas\u001B[39;00m \u001B[38;5;21;01mwidgets\u001B[39;00m\n\u001B[1;32m      2\u001B[0m \u001B[38;5;28;01mfrom\u001B[39;00m \u001B[38;5;21;01mipywidgets\u001B[39;00m \u001B[38;5;28;01mimport\u001B[39;00m HBox\n\u001B[1;32m      4\u001B[0m \u001B[38;5;66;03m# all available parameters\u001B[39;00m\n",
      "\u001B[0;31mModuleNotFoundError\u001B[0m: No module named 'ipywidgets'"
     ]
    }
   ],
   "execution_count": 1
  },
  {
   "cell_type": "markdown",
   "id": "fd3a6a18",
   "metadata": {},
   "source": [
    "## 2. import rdflib for querying the knowledge graph for action parameters\n",
    "This step is needed to load libraries for execution of the queries"
   ]
  },
  {
   "cell_type": "code",
   "id": "4e594054",
   "metadata": {
    "ExecuteTime": {
     "end_time": "2024-10-08T06:36:13.757375Z",
     "start_time": "2024-10-08T06:36:12.403922Z"
    }
   },
   "source": [
    "!pip install rdflib\n",
    "# import rdflib\n",
    "from rdflib import Graph, Literal, URIRef, Namespace\n",
    "# rdflib knows about quite a few popular namespaces, like W3C ontologies, schema.org etc\n",
    "from rdflib.namespace import OWL, RDF, RDFS"
   ],
   "outputs": [
    {
     "name": "stdout",
     "output_type": "stream",
     "text": [
      "Collecting rdflib\r\n",
      "  Obtaining dependency information for rdflib from https://files.pythonhosted.org/packages/d4/b0/7b7d8b5b0d01f1a0b12cc2e5038a868ef3a15825731b8a0d776cf47566c0/rdflib-7.0.0-py3-none-any.whl.metadata\r\n",
      "  Downloading rdflib-7.0.0-py3-none-any.whl.metadata (11 kB)\r\n",
      "Collecting isodate<0.7.0,>=0.6.0 (from rdflib)\r\n",
      "  Obtaining dependency information for isodate<0.7.0,>=0.6.0 from https://files.pythonhosted.org/packages/b6/85/7882d311924cbcfc70b1890780763e36ff0b140c7e51c110fc59a532f087/isodate-0.6.1-py2.py3-none-any.whl.metadata\r\n",
      "  Downloading isodate-0.6.1-py2.py3-none-any.whl.metadata (9.6 kB)\r\n",
      "Collecting pyparsing<4,>=2.1.0 (from rdflib)\r\n",
      "  Obtaining dependency information for pyparsing<4,>=2.1.0 from https://files.pythonhosted.org/packages/e5/0c/0e3c05b1c87bb6a1c76d281b0f35e78d2d80ac91b5f8f524cebf77f51049/pyparsing-3.1.4-py3-none-any.whl.metadata\r\n",
      "  Downloading pyparsing-3.1.4-py3-none-any.whl.metadata (5.1 kB)\r\n",
      "Requirement already satisfied: six in /home/sorin/python_environments/FoodNinjavenv/lib/python3.8/site-packages (from isodate<0.7.0,>=0.6.0->rdflib) (1.16.0)\r\n",
      "Downloading rdflib-7.0.0-py3-none-any.whl (531 kB)\r\n",
      "\u001B[2K   \u001B[38;2;114;156;31m━━━━━━━━━━━━━━━━━━━━━━━━━━━━━━━━━━━━━━━━\u001B[0m \u001B[32m531.9/531.9 kB\u001B[0m \u001B[31m9.3 MB/s\u001B[0m eta \u001B[36m0:00:00\u001B[0m MB/s\u001B[0m eta \u001B[36m0:00:01\u001B[0m\r\n",
      "\u001B[?25hDownloading isodate-0.6.1-py2.py3-none-any.whl (41 kB)\r\n",
      "\u001B[2K   \u001B[38;2;114;156;31m━━━━━━━━━━━━━━━━━━━━━━━━━━━━━━━━━━━━━━━━\u001B[0m \u001B[32m41.7/41.7 kB\u001B[0m \u001B[31m4.9 MB/s\u001B[0m eta \u001B[36m0:00:00\u001B[0m\r\n",
      "\u001B[?25hDownloading pyparsing-3.1.4-py3-none-any.whl (104 kB)\r\n",
      "\u001B[2K   \u001B[38;2;114;156;31m━━━━━━━━━━━━━━━━━━━━━━━━━━━━━━━━━━━━━━━━\u001B[0m \u001B[32m104.1/104.1 kB\u001B[0m \u001B[31m13.4 MB/s\u001B[0m eta \u001B[36m0:00:00\u001B[0m\r\n",
      "\u001B[?25hInstalling collected packages: pyparsing, isodate, rdflib\r\n",
      "Successfully installed isodate-0.6.1 pyparsing-3.1.4 rdflib-7.0.0\r\n",
      "\r\n",
      "\u001B[1m[\u001B[0m\u001B[34;49mnotice\u001B[0m\u001B[1;39;49m]\u001B[0m\u001B[39;49m A new release of pip is available: \u001B[0m\u001B[31;49m23.2.1\u001B[0m\u001B[39;49m -> \u001B[0m\u001B[32;49m24.2\u001B[0m\r\n",
      "\u001B[1m[\u001B[0m\u001B[34;49mnotice\u001B[0m\u001B[1;39;49m]\u001B[0m\u001B[39;49m To update, run: \u001B[0m\u001B[32;49mpip install --upgrade pip\u001B[0m\r\n"
     ]
    }
   ],
   "execution_count": 3
  },
  {
   "cell_type": "markdown",
   "id": "7474e1b8",
   "metadata": {},
   "source": [
    "--------------------------------------------------------------------------------------------------------------------------------\n",
    "# Now let us start with querying the knowledge graph!\n",
    "## Query 1: We can query for the <b>tool</b> to be used for the chosen task:\n",
    "With this query, a robot can determine if a tool shall be used for the pouring task"
   ]
  },
  {
   "cell_type": "code",
   "id": "9081b19a",
   "metadata": {
    "ExecuteTime": {
     "end_time": "2024-10-08T06:36:56.429053Z",
     "start_time": "2024-10-08T06:36:56.349692Z"
    }
   },
   "source": [
    "import requests\n",
    "\n",
    "url = \"https://raw.githubusercontent.com/Food-Ninja/PouringFood/main/owl/PouringFood.owl\"\n",
    "\n",
    "response = requests.get(url)\n",
    "\n",
    "g = Graph()\n",
    "g.parse(data=response.content, format='xml')\n",
    "\n",
    "# define prefixes to be used in the query \n",
    "SOMA = Namespace(\"http://www.ease-crc.org/ont/SOMA.owl#\")\n",
    "POUR = Namespace(\"http://www.ease-crc.org/ont/pouring_food#\")\n",
    "DUL = Namespace(\"http://www.ontologydesignpatterns.org/ont/dul/DUL.owl#\")\n",
    "OBO = Namespace(\"http://purl.obolibrary.org/obo/\")\n",
    "QUDT = Namespace(\"http://qudt.org/schema/qudt#\")\n",
    "g.bind(\"owl\", OWL)\n",
    "g.bind(\"rdfs\", RDFS)\n",
    "g.bind(\"soma\", SOMA)\n",
    "g.bind(\"pour\", POUR)\n",
    "g.bind(\"dul\", DUL)\n",
    "g.bind(\"obo\", OBO)\n",
    "g.bind(\"qudt\",QUDT)\n",
    "\n",
    "# the actual query comes here\n",
    "query = \"\"\"SELECT ?whattool WHERE {\n",
    "      pour:Pouring rdfs:subClassOf ?n.\n",
    "      ?n owl:onProperty dul:hasParticipant.\n",
    "      ?n owl:someValuesFrom ?whattool.} \"\"\" # the input parameter for the query. For testing, you can remove % (tobject) here\n",
    "#and replace %s in the first line of the query with a variable like ?food to get all food and objects\n",
    "\n",
    "for row in g.query(query):\n",
    "    print(row.whattool)\n",
    "    \n",
    "print(query)"
   ],
   "outputs": [
    {
     "name": "stdout",
     "output_type": "stream",
     "text": [
      "SELECT ?whattool WHERE {\n",
      "      pour:Pouring rdfs:subClassOf ?n.\n",
      "      ?n owl:onProperty dul:hasParticipant.\n",
      "      ?n owl:someValuesFrom ?whattool.} \n"
     ]
    }
   ],
   "execution_count": 6
  },
  {
   "cell_type": "markdown",
   "id": "5b0d7137",
   "metadata": {},
   "source": [
    "# Query 2: The robot needs to know the action parameters:\n",
    "## First, let us query the needed <b>angle</b> for pouring"
   ]
  },
  {
   "cell_type": "code",
   "id": "e46448b3",
   "metadata": {
    "ExecuteTime": {
     "end_time": "2024-10-08T07:04:58.636467Z",
     "start_time": "2024-10-08T07:04:58.617441Z"
    }
   },
   "source": [
    "anglequery = \"\"\"SELECT ?min ?max WHERE {  \n",
    "  %s rdfs:subClassOf ?s.\n",
    "  ?s owl:onProperty pour:hasConsistency.\n",
    "  ?s owl:someValuesFrom ?consistency.\n",
    "  ?union rdf:first*/rdf:rest* ?consistency.\n",
    "  {\n",
    "  ?rest rdf:first*/rdf:rest* ?union.\n",
    "  ?start owl:unionOf ?rest.\n",
    "  ?a owl:someValuesFrom ?start.\n",
    "  }\n",
    "  UNION\n",
    "  {\n",
    "    ?a owl:allValuesFrom ?union.\n",
    "  }\n",
    "  ?f rdf:first*/rdf:rest* ?a.\n",
    "  ?r rdf:first*/rdf:rest* ?f.\n",
    "  ?i owl:intersectionOf ?r.\n",
    "  ?inter owl:someValuesFrom ?i.\n",
    "  ?param rdfs:subClassOf ?inter.\n",
    "  ?param rdfs:subClassOf pour:PouringAngle.\n",
    "  ?param rdfs:subClassOf ?degree1.\n",
    "  ?degree1 owl:onProperty qudt:valueQuantity.\n",
    "  ?degree1 owl:minQualifiedCardinality ?min.\n",
    "  ?param rdfs:subClassOf ?degree2.\n",
    "  ?degree2 owl:onProperty qudt:valueQuantity.\n",
    "  ?degree2 owl:maxQualifiedCardinality ?max. }\"\"\" % (tobject) # the input parameter for the query. For testing, you can remove % (tobject) here\n",
    "#and replace %s in the first line of the query with a variable like ?food to get all food and objects\n",
    "\n",
    "for row in g.query(anglequery):\n",
    "    print(\"min angle:\",row.min, \"max angle:\", row.max)"
   ],
   "outputs": [
    {
     "ename": "NameError",
     "evalue": "name 'tobject' is not defined",
     "output_type": "error",
     "traceback": [
      "\u001B[0;31m---------------------------------------------------------------------------\u001B[0m",
      "\u001B[0;31mNameError\u001B[0m                                 Traceback (most recent call last)",
      "Cell \u001B[0;32mIn[7], line 26\u001B[0m\n\u001B[1;32m      1\u001B[0m anglequery \u001B[38;5;241m=\u001B[39m \u001B[38;5;124m\"\"\"\u001B[39m\u001B[38;5;124mSELECT ?min ?max WHERE \u001B[39m\u001B[38;5;124m{\u001B[39m\u001B[38;5;124m  \u001B[39m\n\u001B[1;32m      2\u001B[0m \u001B[38;5;124m  \u001B[39m\u001B[38;5;132;01m%s\u001B[39;00m\u001B[38;5;124m rdfs:subClassOf ?s.\u001B[39m\n\u001B[1;32m      3\u001B[0m \u001B[38;5;124m  ?s owl:onProperty pour:hasConsistency.\u001B[39m\n\u001B[1;32m      4\u001B[0m \u001B[38;5;124m  ?s owl:someValuesFrom ?consistency.\u001B[39m\n\u001B[1;32m      5\u001B[0m \u001B[38;5;124m  ?union rdf:first*/rdf:rest* ?consistency.\u001B[39m\n\u001B[1;32m      6\u001B[0m \u001B[38;5;124m  \u001B[39m\u001B[38;5;124m{\u001B[39m\n\u001B[1;32m      7\u001B[0m \u001B[38;5;124m  ?rest rdf:first*/rdf:rest* ?union.\u001B[39m\n\u001B[1;32m      8\u001B[0m \u001B[38;5;124m  ?start owl:unionOf ?rest.\u001B[39m\n\u001B[1;32m      9\u001B[0m \u001B[38;5;124m  ?a owl:someValuesFrom ?start.\u001B[39m\n\u001B[1;32m     10\u001B[0m \u001B[38;5;124m  }\u001B[39m\n\u001B[1;32m     11\u001B[0m \u001B[38;5;124m  UNION\u001B[39m\n\u001B[1;32m     12\u001B[0m \u001B[38;5;124m  \u001B[39m\u001B[38;5;124m{\u001B[39m\n\u001B[1;32m     13\u001B[0m \u001B[38;5;124m    ?a owl:allValuesFrom ?union.\u001B[39m\n\u001B[1;32m     14\u001B[0m \u001B[38;5;124m  }\u001B[39m\n\u001B[1;32m     15\u001B[0m \u001B[38;5;124m  ?f rdf:first*/rdf:rest* ?a.\u001B[39m\n\u001B[1;32m     16\u001B[0m \u001B[38;5;124m  ?r rdf:first*/rdf:rest* ?f.\u001B[39m\n\u001B[1;32m     17\u001B[0m \u001B[38;5;124m  ?i owl:intersectionOf ?r.\u001B[39m\n\u001B[1;32m     18\u001B[0m \u001B[38;5;124m  ?inter owl:someValuesFrom ?i.\u001B[39m\n\u001B[1;32m     19\u001B[0m \u001B[38;5;124m  ?param rdfs:subClassOf ?inter.\u001B[39m\n\u001B[1;32m     20\u001B[0m \u001B[38;5;124m  ?param rdfs:subClassOf pour:PouringAngle.\u001B[39m\n\u001B[1;32m     21\u001B[0m \u001B[38;5;124m  ?param rdfs:subClassOf ?degree1.\u001B[39m\n\u001B[1;32m     22\u001B[0m \u001B[38;5;124m  ?degree1 owl:onProperty qudt:valueQuantity.\u001B[39m\n\u001B[1;32m     23\u001B[0m \u001B[38;5;124m  ?degree1 owl:minQualifiedCardinality ?min.\u001B[39m\n\u001B[1;32m     24\u001B[0m \u001B[38;5;124m  ?param rdfs:subClassOf ?degree2.\u001B[39m\n\u001B[1;32m     25\u001B[0m \u001B[38;5;124m  ?degree2 owl:onProperty qudt:valueQuantity.\u001B[39m\n\u001B[0;32m---> 26\u001B[0m \u001B[38;5;124m  ?degree2 owl:maxQualifiedCardinality ?max. }\u001B[39m\u001B[38;5;124m\"\"\"\u001B[39m \u001B[38;5;241m%\u001B[39m (\u001B[43mtobject\u001B[49m) \u001B[38;5;66;03m# the input parameter for the query. For testing, you can remove % (tobject) here\u001B[39;00m\n\u001B[1;32m     27\u001B[0m \u001B[38;5;66;03m#and replace %s in the first line of the query with a variable like ?food to get all food and objects\u001B[39;00m\n\u001B[1;32m     29\u001B[0m \u001B[38;5;28;01mfor\u001B[39;00m row \u001B[38;5;129;01min\u001B[39;00m g\u001B[38;5;241m.\u001B[39mquery(anglequery):\n",
      "\u001B[0;31mNameError\u001B[0m: name 'tobject' is not defined"
     ]
    }
   ],
   "execution_count": 7
  },
  {
   "cell_type": "markdown",
   "id": "adadb33d",
   "metadata": {},
   "source": [
    "## Now let us examine how long the task should be performed"
   ]
  },
  {
   "cell_type": "code",
   "execution_count": 33,
   "id": "3261da0f",
   "metadata": {},
   "outputs": [
    {
     "name": "stdout",
     "output_type": "stream",
     "text": [
      "min duration: 1 max duration: 3\n"
     ]
    }
   ],
   "source": [
    "durationquery = \"\"\"SELECT ?min ?max WHERE {  \n",
    "  %s rdfs:subClassOf ?s.\n",
    "  ?s owl:onProperty pour:hasConsistency.\n",
    "  ?s owl:someValuesFrom ?consistency.\n",
    "  ?union rdf:first*/rdf:rest* ?consistency.\n",
    "  {\n",
    "  ?rest rdf:first*/rdf:rest* ?union.\n",
    "  ?start owl:unionOf ?rest.\n",
    "  ?a owl:someValuesFrom ?start.\n",
    "  }\n",
    "  UNION\n",
    "  {\n",
    "    ?a owl:allValuesFrom ?union.\n",
    "  }\n",
    "  ?f rdf:first*/rdf:rest* ?a.\n",
    "  ?r rdf:first*/rdf:rest* ?f.\n",
    "  ?i owl:intersectionOf ?r.\n",
    "  ?inter owl:someValuesFrom ?i.\n",
    "  ?param rdfs:subClassOf ?inter.\n",
    "  ?param rdfs:subClassOf pour:PouringDuration.\n",
    "  ?param rdfs:subClassOf ?degree1.\n",
    "  ?degree1 owl:onProperty qudt:valueQuantity.\n",
    "  ?degree1 owl:minQualifiedCardinality ?min.\n",
    "  ?param rdfs:subClassOf ?degree2.\n",
    "  ?degree2 owl:onProperty qudt:valueQuantity.\n",
    "  ?degree2 owl:maxQualifiedCardinality ?max. }\"\"\" % (tobject) # the input parameter for the query. For testing, you can remove % (tobject) here\n",
    "#and replace %s in the first line of the query with a variable like ?food to get all food and objects\n",
    "\n",
    "for row in g.query(durationquery):\n",
    "    print(\"min duration:\",row.min, \"max duration:\", row.max)"
   ]
  },
  {
   "cell_type": "code",
   "execution_count": null,
   "id": "f7dd74f6",
   "metadata": {},
   "outputs": [],
   "source": []
  }
 ],
 "metadata": {
  "kernelspec": {
   "display_name": "Python 3 (ipykernel)",
   "language": "python",
   "name": "python3"
  },
  "language_info": {
   "codemirror_mode": {
    "name": "ipython",
    "version": 3
   },
   "file_extension": ".py",
   "mimetype": "text/x-python",
   "name": "python",
   "nbconvert_exporter": "python",
   "pygments_lexer": "ipython3",
   "version": "3.11.6"
  }
 },
 "nbformat": 4,
 "nbformat_minor": 5
}
